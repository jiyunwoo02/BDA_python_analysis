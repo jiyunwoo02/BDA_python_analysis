{
 "cells": [
  {
   "cell_type": "markdown",
   "id": "ba2e6a2d",
   "metadata": {},
   "source": [
    "### 정규표현식 \n",
    "- 나만의 일정한 규칙( 패턴 ) 만들 수 있다.\n",
    "- 복잡한, 다양한 문자열 속에서 내가 원하는 문자만 추출하고 싶거나, 내가 원하는 패턴만 추출하고 싶은 경우가 꼭 생긴다.\n",
    "- 기존 문자열 함수를 이용해서 추출하는데 한계가 있다.\n",
    "- str문법이나, 기존 문자열 문법으로 사용해도 한계가 있다.\n",
    "- 따라서 분석가가 어떤 상황에 따라 다르겠지만, 문자열 함수로만 풀 수 없는 상황이 있는 경우는 정규식 패턴을 이용해서 전처리 또는 추출을 할 수 있다.\n"
   ]
  },
  {
   "cell_type": "code",
   "execution_count": 4,
   "id": "5d4b93aa",
   "metadata": {},
   "outputs": [],
   "source": [
    "import re\n",
    "#정규표현식 패키지\n",
    "#re match, search 두 가지 방법이 있다."
   ]
  },
  {
   "cell_type": "code",
   "execution_count": 5,
   "id": "bea3fc48",
   "metadata": {},
   "outputs": [
    {
     "data": {
      "text/plain": [
       "<re.Match object; span=(0, 5), match='Hello'>"
      ]
     },
     "execution_count": 5,
     "metadata": {},
     "output_type": "execute_result"
    }
   ],
   "source": [
    "# ('패턴', 뒤에 있는 것이 문자열)\n",
    "re.match('Hello', 'Hello, world!')"
   ]
  },
  {
   "cell_type": "code",
   "execution_count": 6,
   "id": "a50d845a",
   "metadata": {},
   "outputs": [
    {
     "data": {
      "text/plain": [
       "<re.Match object; span=(0, 2), match='ab'>"
      ]
     },
     "execution_count": 6,
     "metadata": {},
     "output_type": "execute_result"
    }
   ],
   "source": [
    "re.match('ab', 'ab, Hello, world!')"
   ]
  },
  {
   "cell_type": "markdown",
   "id": "d4c18297",
   "metadata": {},
   "source": [
    "- 내가원하는 패턴을 만들 수 있어야 한다.\n",
    "- Hello 다양한 것들을 찾을 수 있다.\n",
    "- 이메일 \n",
    "- asdfadsf@기업명.net, com 등등\n",
    "- 패턴이 발생한다.\n",
    "- 이 패턴에 대해서 정규표현식으로 만들엇\n",
    "- 로우데이터에서 이메일만 찾거나, 이메일이 형식 맞는지 등을 체크할 수 있다.\n"
   ]
  },
  {
   "cell_type": "markdown",
   "id": "93f15ade",
   "metadata": {},
   "source": [
    "- match\n",
    "- search "
   ]
  },
  {
   "cell_type": "code",
   "execution_count": 9,
   "id": "ac33d4a4",
   "metadata": {},
   "outputs": [],
   "source": [
    "re.match('Hello', 'ab Hello') #match는 Hello를 못 찾는다."
   ]
  },
  {
   "cell_type": "code",
   "execution_count": 8,
   "id": "483e2eb6",
   "metadata": {},
   "outputs": [
    {
     "data": {
      "text/plain": [
       "<re.Match object; span=(3, 8), match='Hello'>"
      ]
     },
     "execution_count": 8,
     "metadata": {},
     "output_type": "execute_result"
    }
   ],
   "source": [
    "re.search('Hello', 'ab Hello') #찾는다."
   ]
  },
  {
   "cell_type": "markdown",
   "id": "ad39cd03",
   "metadata": {},
   "source": [
    "- match 게으른 녀석\n",
    "- search 부지런한 녀석"
   ]
  },
  {
   "cell_type": "markdown",
   "id": "241a26c7",
   "metadata": {},
   "source": [
    "### 패턴을 만들기 위한 여러가지 특수문자들이 있다.\n",
    "\n",
    "- 숫자패턴의 경우는 [0-9] ,전체 모든 숫자를 뜻한다."
   ]
  },
  {
   "cell_type": "code",
   "execution_count": 11,
   "id": "8f07809b",
   "metadata": {},
   "outputs": [
    {
     "data": {
      "text/plain": [
       "<re.Match object; span=(0, 1), match='1'>"
      ]
     },
     "execution_count": 11,
     "metadata": {},
     "output_type": "execute_result"
    }
   ],
   "source": [
    "#숫자 데이터만 찾고싶다.\n",
    "re.search('[0-9]','12345, hihihi')\n",
    "\n",
    "# 나는 전체 12345를 찾고 싶은데?\n",
    "# 너는 1만 찾았네?"
   ]
  },
  {
   "cell_type": "markdown",
   "id": "58c55bc3",
   "metadata": {},
   "source": [
    "- 패턴을 확장하기 위해서 사용하는 특수문자\n",
    "\n",
    "- '*'\n",
    "\n",
    "- '+'\n",
    "\n",
    "- 숫자에 대해서 0개 이상 있는지 1개 이상있는지에 따라 모든 숫자를 찾아달라는 뜻"
   ]
  },
  {
   "cell_type": "code",
   "execution_count": 12,
   "id": "da5395dd",
   "metadata": {},
   "outputs": [
    {
     "data": {
      "text/plain": [
       "<re.Match object; span=(0, 5), match='12345'>"
      ]
     },
     "execution_count": 12,
     "metadata": {},
     "output_type": "execute_result"
    }
   ],
   "source": [
    "#숫자 데이터만 찾고싶다.\n",
    "re.search('[0-9]*','12345, hihihi')"
   ]
  },
  {
   "cell_type": "code",
   "execution_count": 13,
   "id": "98530ebe",
   "metadata": {},
   "outputs": [
    {
     "data": {
      "text/plain": [
       "<re.Match object; span=(0, 5), match='12345'>"
      ]
     },
     "execution_count": 13,
     "metadata": {},
     "output_type": "execute_result"
    }
   ],
   "source": [
    "re.search('[0-9]+','12345, hihihi')"
   ]
  },
  {
   "cell_type": "markdown",
   "id": "eec0f65e",
   "metadata": {},
   "source": [
    "### 필수과제 1\n",
    "- '*'\n",
    "- '+'\n",
    "\n",
    "- 둘의 차이를 찾아서 코드 작성하고, 주석처리 부탁드립니다."
   ]
  },
  {
   "cell_type": "markdown",
   "id": "5b46301b",
   "metadata": {},
   "source": [
    "- 문자{개수}\n",
    "- (문자열){개수}"
   ]
  },
  {
   "cell_type": "code",
   "execution_count": 14,
   "id": "71064b6c",
   "metadata": {},
   "outputs": [
    {
     "data": {
      "text/plain": [
       "<re.Match object; span=(0, 5), match='aaaaa'>"
      ]
     },
     "execution_count": 14,
     "metadata": {},
     "output_type": "execute_result"
    }
   ],
   "source": [
    "re.match('a{5}','aaaaaa10')"
   ]
  },
  {
   "cell_type": "code",
   "execution_count": 16,
   "id": "6436ac58",
   "metadata": {},
   "outputs": [
    {
     "data": {
      "text/plain": [
       "<re.Match object; span=(0, 10), match='hihihihihi'>"
      ]
     },
     "execution_count": 16,
     "metadata": {},
     "output_type": "execute_result"
    }
   ],
   "source": [
    "re.match('(hi){5}','hihihihihi1234')"
   ]
  },
  {
   "cell_type": "markdown",
   "id": "79d106c4",
   "metadata": {},
   "source": [
    "### 전화번호 패턴은 어떤 식으로 만들까?\n",
    "- 000-0000-0000 이런 식으로\n",
    "- 모든숫자(3개) -모든숫자(4개) - 모든숫자(4개)"
   ]
  },
  {
   "cell_type": "code",
   "execution_count": 19,
   "id": "abafd9e5",
   "metadata": {},
   "outputs": [
    {
     "data": {
      "text/plain": [
       "<re.Match object; span=(0, 13), match='010-1234-5678'>"
      ]
     },
     "execution_count": 19,
     "metadata": {},
     "output_type": "execute_result"
    }
   ],
   "source": [
    "re.match('[0-9]{3}-[0-9]{4}-[0-9]{4}','010-1234-56781')"
   ]
  },
  {
   "cell_type": "code",
   "execution_count": 20,
   "id": "0557d10a",
   "metadata": {},
   "outputs": [
    {
     "data": {
      "text/plain": [
       "<re.Match object; span=(0, 14), match='010-1234-56781'>"
      ]
     },
     "execution_count": 20,
     "metadata": {},
     "output_type": "execute_result"
    }
   ],
   "source": [
    "re.match('[0-9]*-[0-9]*-[0-9]*','010-1234-56781')"
   ]
  },
  {
   "cell_type": "markdown",
   "id": "f038dfef",
   "metadata": {},
   "source": [
    "### 문자 ( 알파벳 )\n",
    "- a-z 모든 알파벳 소문자\n",
    "- A-Z 모든 알파벳 대문자\n",
    "\n",
    "- A-z "
   ]
  },
  {
   "cell_type": "code",
   "execution_count": 26,
   "id": "2ad4e33d",
   "metadata": {},
   "outputs": [
    {
     "data": {
      "text/plain": [
       "<re.Match object; span=(0, 4), match='hihi'>"
      ]
     },
     "execution_count": 26,
     "metadata": {},
     "output_type": "execute_result"
    }
   ],
   "source": [
    "re.match('[a-z]*','hihi1234')\n",
    "\n",
    "# 1234도 찾아줘\n",
    "re.match('[a-z0-9]*','hihiHI1234')\n"
   ]
  },
  {
   "cell_type": "code",
   "execution_count": 27,
   "id": "27c195e2",
   "metadata": {},
   "outputs": [
    {
     "data": {
      "text/plain": [
       "<re.Match object; span=(0, 4), match='hihi'>"
      ]
     },
     "execution_count": 27,
     "metadata": {},
     "output_type": "execute_result"
    }
   ],
   "source": [
    "re.search('[a-z0-9]*','hihiHI1234')"
   ]
  },
  {
   "cell_type": "code",
   "execution_count": 25,
   "id": "d2090204",
   "metadata": {},
   "outputs": [
    {
     "data": {
      "text/plain": [
       "<re.Match object; span=(0, 10), match='hihiHI1234'>"
      ]
     },
     "execution_count": 25,
     "metadata": {},
     "output_type": "execute_result"
    }
   ],
   "source": [
    "re.match('[a-zA-Z0-9]*','hihiHI1234')"
   ]
  },
  {
   "cell_type": "markdown",
   "id": "8f02b0df",
   "metadata": {},
   "source": [
    "- 한국어\n",
    "- 가-힣 #모든 한글\n",
    "- ㄱ-ㅎ\n",
    "- ㅏ-ㅣ \n",
    "- 따로 사용할 수 있다."
   ]
  },
  {
   "cell_type": "code",
   "execution_count": 31,
   "id": "f4439334",
   "metadata": {},
   "outputs": [
    {
     "data": {
      "text/plain": [
       "<re.Match object; span=(15, 20), match='안녕하세요'>"
      ]
     },
     "execution_count": 31,
     "metadata": {},
     "output_type": "execute_result"
    }
   ],
   "source": [
    "re.search('[가-힣]+','www.python.org/안녕하세요?')"
   ]
  },
  {
   "cell_type": "markdown",
   "id": "8453204d",
   "metadata": {},
   "source": [
    "- 특수문자도 만들어 줘야 한다!\n",
    "\n",
    "- 특수문자 앞에 \\ 붙이면 된다.\n",
    "- 단 []안에서는 \\붙이지 않아도 되지만 혹시나 에러가 발생하는 경우는 \\\n",
    "- \\특수문자"
   ]
  },
  {
   "cell_type": "code",
   "execution_count": 33,
   "id": "6c7b3541",
   "metadata": {},
   "outputs": [
    {
     "data": {
      "text/plain": [
       "<re.Match object; span=(0, 1), match='?'>"
      ]
     },
     "execution_count": 33,
     "metadata": {},
     "output_type": "execute_result"
    }
   ],
   "source": [
    "re.search('\\?+', '?안녕!')"
   ]
  },
  {
   "cell_type": "markdown",
   "id": "db598e65",
   "metadata": {},
   "source": [
    "- 좀 더 쉽게 요약을해서 표현하는 경우가 있다."
   ]
  },
  {
   "cell_type": "markdown",
   "id": "e6c94419",
   "metadata": {},
   "source": [
    "- 자주 사용하는 것은 요약해서 표현한다.\n",
    "- \\d 모든 숫자\n",
    "- \\D 모든 숫자를 제외한다\n",
    "- not [^0-9] 모든 문자를 제외한 것\n",
    "\n",
    "- \\w [a-zA-Z0-9_] 영문, 대소문자, 숫자, 밑줄 문자\n",
    "- \\W [^a-zA-Z0-9_] 위에 \\w제외한 나머지 다"
   ]
  },
  {
   "cell_type": "code",
   "execution_count": 34,
   "id": "3511abaf",
   "metadata": {},
   "outputs": [
    {
     "data": {
      "text/plain": [
       "<re.Match object; span=(0, 5), match='12345'>"
      ]
     },
     "execution_count": 34,
     "metadata": {},
     "output_type": "execute_result"
    }
   ],
   "source": [
    "re.match('\\d+','12345')"
   ]
  },
  {
   "cell_type": "code",
   "execution_count": 36,
   "id": "0bb43372",
   "metadata": {},
   "outputs": [
    {
     "data": {
      "text/plain": [
       "<re.Match object; span=(0, 9), match='12345abcd'>"
      ]
     },
     "execution_count": 36,
     "metadata": {},
     "output_type": "execute_result"
    }
   ],
   "source": [
    "re.match('\\w+','12345abcd')"
   ]
  },
  {
   "cell_type": "markdown",
   "id": "bdeb6c89",
   "metadata": {},
   "source": [
    "- 공백을 처리하기\n",
    "- \\s 또는 \\S"
   ]
  },
  {
   "cell_type": "code",
   "execution_count": 38,
   "id": "410d9fd3",
   "metadata": {},
   "outputs": [
    {
     "data": {
      "text/plain": [
       "<re.Match object; span=(0, 8), match='hi 12345'>"
      ]
     },
     "execution_count": 38,
     "metadata": {},
     "output_type": "execute_result"
    }
   ],
   "source": [
    "re.match('[a-zA-Z0-9\\s]+', 'hi 12345')"
   ]
  },
  {
   "cell_type": "markdown",
   "id": "4bd7b409",
   "metadata": {},
   "source": [
    "### 그룹사용하기\n",
    "- (정규표현식)(정규표현식)"
   ]
  },
  {
   "cell_type": "code",
   "execution_count": 39,
   "id": "2e887bd6",
   "metadata": {},
   "outputs": [],
   "source": [
    "ab = re.match('([0-9]+) ([a-z]+)','1234 abc')"
   ]
  },
  {
   "cell_type": "code",
   "execution_count": 41,
   "id": "c2f2f951",
   "metadata": {},
   "outputs": [
    {
     "data": {
      "text/plain": [
       "'1234'"
      ]
     },
     "execution_count": 41,
     "metadata": {},
     "output_type": "execute_result"
    }
   ],
   "source": [
    "ab.group(1)"
   ]
  },
  {
   "cell_type": "code",
   "execution_count": 42,
   "id": "abf8db74",
   "metadata": {},
   "outputs": [
    {
     "data": {
      "text/plain": [
       "'abc'"
      ]
     },
     "execution_count": 42,
     "metadata": {},
     "output_type": "execute_result"
    }
   ],
   "source": [
    "ab.group(2)"
   ]
  },
  {
   "cell_type": "code",
   "execution_count": 43,
   "id": "03ab94e5",
   "metadata": {},
   "outputs": [
    {
     "data": {
      "text/plain": [
       "'1234 abc'"
      ]
     },
     "execution_count": 43,
     "metadata": {},
     "output_type": "execute_result"
    }
   ],
   "source": [
    "ab.group(0)"
   ]
  },
  {
   "cell_type": "markdown",
   "id": "2945f17b",
   "metadata": {},
   "source": [
    "### 이메일을 찾는 정규표현식 만들어보기!\n",
    "\n",
    "- 1. 영어소문자,숫자만 가능 \n",
    "- 2. 대문자는 불가능하다.\n",
    "- 3. 문자열로 시작해야 한다.\n",
    "- 4. @기업명.com 으로 끝난다.\n",
    "- 5. 기업명에는 문자열만 들어간다."
   ]
  },
  {
   "cell_type": "code",
   "execution_count": 47,
   "id": "60e79d17",
   "metadata": {},
   "outputs": [
    {
     "data": {
      "text/plain": [
       "'python@gmail.com'"
      ]
     },
     "execution_count": 47,
     "metadata": {},
     "output_type": "execute_result"
    }
   ],
   "source": [
    "'python@gmail.com' #찾아보기 "
   ]
  },
  {
   "cell_type": "code",
   "execution_count": 48,
   "id": "3bc4f65e",
   "metadata": {},
   "outputs": [
    {
     "data": {
      "text/plain": [
       "<re.Match object; span=(0, 16), match='python@gmail.com'>"
      ]
     },
     "execution_count": 48,
     "metadata": {},
     "output_type": "execute_result"
    }
   ],
   "source": [
    "re.match('[a-z0-9]*@[a-z]*.[a-z]{3}','python@gmail.com')"
   ]
  },
  {
   "cell_type": "code",
   "execution_count": 49,
   "id": "f9848bb2",
   "metadata": {},
   "outputs": [
    {
     "data": {
      "text/plain": [
       "<re.Match object; span=(0, 15), match='python@gmai.com'>"
      ]
     },
     "execution_count": 49,
     "metadata": {},
     "output_type": "execute_result"
    }
   ],
   "source": [
    "re.search('[a-z]*[0-9]*@[a-z]*.com','python@gmai.com')"
   ]
  },
  {
   "cell_type": "markdown",
   "id": "1ecdf41c",
   "metadata": {},
   "source": [
    "### 필수과제2\n",
    "- 정규표현식 수업시간에 배우지 않는 것 최소 5개 이상 찾아주시고, 해당 정규표현식 코드 작성 및 주석으로 어떤 원리로 작동하는지 체크해 주세요!"
   ]
  },
  {
   "cell_type": "markdown",
   "id": "25fb5f85",
   "metadata": {},
   "source": [
    "## 텍스트 분석\n",
    "\n",
    "- 문자열, 텍스트에 대한 데이터 분석\n",
    "- 문자열이라는 것은 문자라서 -> 컴퓨터에 학습시키 위해서는 수치화해야 한다.\n",
    "- 카운팅기반으로 진행하거나, 빈도에 대한 것으로 수치화를 한다.\n",
    "- word2vec bag 결국에는 다 카운팅 기반, 빈도기반으로 진행한다.\n",
    "\n",
    "- 원핫인코딩, 레이블인코딩, 인코딩 등을 진행해서 문자를 수치화 해야 한다.\n",
    "- 텍스트 분석은 \n",
    "- 빈도, 감성분석, 예측, 시각화, 자연어처리로 챗봇 등 \n",
    "- 텍스트라는 것을 어떻게 수치화 할 것인가? 중요한 포인트이다.\n",
    "\n",
    "- ' 여러분 안녕하세요? 잘 지내셨나요? 피곤하시죠? ' \n",
    "- 주어, 동사, 형용사, 구성성분으로 나눠서 수치화 하는 것\n",
    "- 이 문자를 어떤 기준으로 텍스트를 수치화 할 것인가?\n",
    "\n",
    "- 패키지가 잘 되어 있따.\n",
    "- 영어, 한국어 konlp 를 이용해서 형태소처리 할 수 있다.\n",
    "- 영어 nltk, okt, twitter 다양하다.\n",
    "\n",
    "- 자연어 처리 토큰화 모듈\n",
    "- 자연어처리 토큰화 모듈\n",
    "\n",
    "- From nltk.tokenize import sent_tokenize\n",
    "- From konlpy.tag import Hannaum\n",
    "- From knolpy.tag import Kkma\n",
    "- From konlpy.tag import Okt\n",
    "- from konlpy.tag import Mecab"
   ]
  },
  {
   "cell_type": "code",
   "execution_count": 72,
   "id": "32e4db14",
   "metadata": {},
   "outputs": [],
   "source": [
    "import pandas as pd\n",
    "\n",
    "survey = pd.read_csv('survey_설문지.csv')"
   ]
  },
  {
   "cell_type": "code",
   "execution_count": 73,
   "id": "3157a5d3",
   "metadata": {},
   "outputs": [
    {
     "data": {
      "text/html": [
       "<div>\n",
       "<style scoped>\n",
       "    .dataframe tbody tr th:only-of-type {\n",
       "        vertical-align: middle;\n",
       "    }\n",
       "\n",
       "    .dataframe tbody tr th {\n",
       "        vertical-align: top;\n",
       "    }\n",
       "\n",
       "    .dataframe thead th {\n",
       "        text-align: right;\n",
       "    }\n",
       "</style>\n",
       "<table border=\"1\" class=\"dataframe\">\n",
       "  <thead>\n",
       "    <tr style=\"text-align: right;\">\n",
       "      <th></th>\n",
       "      <th>datetime</th>\n",
       "      <th>comment</th>\n",
       "      <th>satisfaction</th>\n",
       "    </tr>\n",
       "  </thead>\n",
       "  <tbody>\n",
       "    <tr>\n",
       "      <th>0</th>\n",
       "      <td>2019-03-11</td>\n",
       "      <td>역앞에 젊은이들이 모여있다(AA역)</td>\n",
       "      <td>1</td>\n",
       "    </tr>\n",
       "    <tr>\n",
       "      <th>1</th>\n",
       "      <td>2019-02-25</td>\n",
       "      <td>운동할 수 있는 장소가 있는 것이 좋다</td>\n",
       "      <td>5</td>\n",
       "    </tr>\n",
       "    <tr>\n",
       "      <th>2</th>\n",
       "      <td>2019-02-18</td>\n",
       "      <td>육아 지원이 좋다</td>\n",
       "      <td>5</td>\n",
       "    </tr>\n",
       "    <tr>\n",
       "      <th>3</th>\n",
       "      <td>2019-04-09</td>\n",
       "      <td>어린이집에 바로 입원할 수 있다(대기아동 없음)</td>\n",
       "      <td>4</td>\n",
       "    </tr>\n",
       "    <tr>\n",
       "      <th>4</th>\n",
       "      <td>2019-01-06</td>\n",
       "      <td>역앞 상가가 쓸쓸하다</td>\n",
       "      <td>2</td>\n",
       "    </tr>\n",
       "    <tr>\n",
       "      <th>...</th>\n",
       "      <td>...</td>\n",
       "      <td>...</td>\n",
       "      <td>...</td>\n",
       "    </tr>\n",
       "    <tr>\n",
       "      <th>81</th>\n",
       "      <td>2019-01-21</td>\n",
       "      <td>초등학교 운동장이 잔디밭이라서 아주 좋다</td>\n",
       "      <td>5</td>\n",
       "    </tr>\n",
       "    <tr>\n",
       "      <th>82</th>\n",
       "      <td>2019-04-30</td>\n",
       "      <td>홈페이지에서도 설문지를 투고할 수 있게 해 달라</td>\n",
       "      <td>2</td>\n",
       "    </tr>\n",
       "    <tr>\n",
       "      <th>83</th>\n",
       "      <td>2019-01-09</td>\n",
       "      <td>공원에 놀이기구가 너무 적다</td>\n",
       "      <td>1</td>\n",
       "    </tr>\n",
       "    <tr>\n",
       "      <th>84</th>\n",
       "      <td>2019-03-09</td>\n",
       "      <td>공원을 더 늘렸으면 좋겠다</td>\n",
       "      <td>2</td>\n",
       "    </tr>\n",
       "    <tr>\n",
       "      <th>85</th>\n",
       "      <td>2019-04-02</td>\n",
       "      <td>역앞에 주차장이 적다, 불편하다</td>\n",
       "      <td>1</td>\n",
       "    </tr>\n",
       "  </tbody>\n",
       "</table>\n",
       "<p>86 rows × 3 columns</p>\n",
       "</div>"
      ],
      "text/plain": [
       "      datetime                     comment  satisfaction\n",
       "0   2019-03-11         역앞에 젊은이들이 모여있다(AA역)             1\n",
       "1   2019-02-25       운동할 수 있는 장소가 있는 것이 좋다             5\n",
       "2   2019-02-18                   육아 지원이 좋다             5\n",
       "3   2019-04-09  어린이집에 바로 입원할 수 있다(대기아동 없음)             4\n",
       "4   2019-01-06                 역앞 상가가 쓸쓸하다             2\n",
       "..         ...                         ...           ...\n",
       "81  2019-01-21      초등학교 운동장이 잔디밭이라서 아주 좋다             5\n",
       "82  2019-04-30  홈페이지에서도 설문지를 투고할 수 있게 해 달라             2\n",
       "83  2019-01-09             공원에 놀이기구가 너무 적다             1\n",
       "84  2019-03-09              공원을 더 늘렸으면 좋겠다             2\n",
       "85  2019-04-02           역앞에 주차장이 적다, 불편하다             1\n",
       "\n",
       "[86 rows x 3 columns]"
      ]
     },
     "execution_count": 73,
     "metadata": {},
     "output_type": "execute_result"
    }
   ],
   "source": [
    "# 문자열데이터라는 것이 단순하게 문자열 데이터만 구성되어 있으면 조금 분석에 한정적일 수 있다.\n",
    "# 문자열데이터 + 평점, 고객의 리뷰에 대한 수치화된 데이터들이 있으면 분석이 다채로워진다.\n",
    "# 시계열 데이터가 붙어버리면 엄청난 추가분석의 가능성 -> 시계열적인 리뷰수 증가 기타 등등\n",
    "\n",
    "survey"
   ]
  },
  {
   "cell_type": "code",
   "execution_count": 55,
   "id": "56d85ee6",
   "metadata": {},
   "outputs": [
    {
     "data": {
      "text/plain": [
       "0            역앞에 젊은이들이 모여있다(AA역)\n",
       "1          운동할 수 있는 장소가 있는 것이 좋다\n",
       "2                      육아 지원이 좋다\n",
       "3     어린이집에 바로 입원할 수 있다(대기아동 없음)\n",
       "4                    역앞 상가가 쓸쓸하다\n",
       "                 ...            \n",
       "81        초등학교 운동장이 잔디밭이라서 아주 좋다\n",
       "82    홈페이지에서도 설문지를 투고할 수 있게 해 달라\n",
       "83               공원에 놀이기구가 너무 적다\n",
       "84                공원을 더 늘렸으면 좋겠다\n",
       "85             역앞에 주차장이 적다, 불편하다\n",
       "Name: comment, Length: 86, dtype: object"
      ]
     },
     "execution_count": 55,
     "metadata": {},
     "output_type": "execute_result"
    }
   ],
   "source": [
    "survey['comment']\n",
    "# 정규식을 가지고 영어는 제외하고 한글만 모두 다 남기자!"
   ]
  },
  {
   "cell_type": "markdown",
   "id": "f1bdfc8d",
   "metadata": {},
   "source": [
    "### str 문법을 사용해서 전처리를 진행한다.\n",
    "- str 기본적으로 다양한 문자열 처리할 수 있는 함수가 있다.\n",
    "- replace, contains 등등 다양하다."
   ]
  },
  {
   "cell_type": "code",
   "execution_count": 74,
   "id": "d724a4a8",
   "metadata": {},
   "outputs": [
    {
     "data": {
      "text/html": [
       "<div>\n",
       "<style scoped>\n",
       "    .dataframe tbody tr th:only-of-type {\n",
       "        vertical-align: middle;\n",
       "    }\n",
       "\n",
       "    .dataframe tbody tr th {\n",
       "        vertical-align: top;\n",
       "    }\n",
       "\n",
       "    .dataframe thead th {\n",
       "        text-align: right;\n",
       "    }\n",
       "</style>\n",
       "<table border=\"1\" class=\"dataframe\">\n",
       "  <thead>\n",
       "    <tr style=\"text-align: right;\">\n",
       "      <th></th>\n",
       "      <th>datetime</th>\n",
       "      <th>comment</th>\n",
       "      <th>satisfaction</th>\n",
       "    </tr>\n",
       "  </thead>\n",
       "  <tbody>\n",
       "    <tr>\n",
       "      <th>0</th>\n",
       "      <td>2019-03-11</td>\n",
       "      <td>역앞에 젊은이들이 모여있다(AA역)</td>\n",
       "      <td>1</td>\n",
       "    </tr>\n",
       "    <tr>\n",
       "      <th>1</th>\n",
       "      <td>2019-02-25</td>\n",
       "      <td>운동할 수 있는 장소가 있는 것이 좋다</td>\n",
       "      <td>5</td>\n",
       "    </tr>\n",
       "    <tr>\n",
       "      <th>2</th>\n",
       "      <td>2019-02-18</td>\n",
       "      <td>육아 지원이 좋다</td>\n",
       "      <td>5</td>\n",
       "    </tr>\n",
       "    <tr>\n",
       "      <th>3</th>\n",
       "      <td>2019-04-09</td>\n",
       "      <td>어린이집에 바로 입원할 수 있다(대기아동 없음)</td>\n",
       "      <td>4</td>\n",
       "    </tr>\n",
       "    <tr>\n",
       "      <th>4</th>\n",
       "      <td>2019-01-06</td>\n",
       "      <td>역앞 상가가 쓸쓸하다</td>\n",
       "      <td>2</td>\n",
       "    </tr>\n",
       "    <tr>\n",
       "      <th>...</th>\n",
       "      <td>...</td>\n",
       "      <td>...</td>\n",
       "      <td>...</td>\n",
       "    </tr>\n",
       "    <tr>\n",
       "      <th>81</th>\n",
       "      <td>2019-01-21</td>\n",
       "      <td>초등학교 운동장이 잔디밭이라서 아주 좋다</td>\n",
       "      <td>5</td>\n",
       "    </tr>\n",
       "    <tr>\n",
       "      <th>82</th>\n",
       "      <td>2019-04-30</td>\n",
       "      <td>홈페이지에서도 설문지를 투고할 수 있게 해 달라</td>\n",
       "      <td>2</td>\n",
       "    </tr>\n",
       "    <tr>\n",
       "      <th>83</th>\n",
       "      <td>2019-01-09</td>\n",
       "      <td>공원에 놀이기구가 너무 적다</td>\n",
       "      <td>1</td>\n",
       "    </tr>\n",
       "    <tr>\n",
       "      <th>84</th>\n",
       "      <td>2019-03-09</td>\n",
       "      <td>공원을 더 늘렸으면 좋겠다</td>\n",
       "      <td>2</td>\n",
       "    </tr>\n",
       "    <tr>\n",
       "      <th>85</th>\n",
       "      <td>2019-04-02</td>\n",
       "      <td>역앞에 주차장이 적다, 불편하다</td>\n",
       "      <td>1</td>\n",
       "    </tr>\n",
       "  </tbody>\n",
       "</table>\n",
       "<p>86 rows × 3 columns</p>\n",
       "</div>"
      ],
      "text/plain": [
       "      datetime                     comment  satisfaction\n",
       "0   2019-03-11         역앞에 젊은이들이 모여있다(AA역)             1\n",
       "1   2019-02-25       운동할 수 있는 장소가 있는 것이 좋다             5\n",
       "2   2019-02-18                   육아 지원이 좋다             5\n",
       "3   2019-04-09  어린이집에 바로 입원할 수 있다(대기아동 없음)             4\n",
       "4   2019-01-06                 역앞 상가가 쓸쓸하다             2\n",
       "..         ...                         ...           ...\n",
       "81  2019-01-21      초등학교 운동장이 잔디밭이라서 아주 좋다             5\n",
       "82  2019-04-30  홈페이지에서도 설문지를 투고할 수 있게 해 달라             2\n",
       "83  2019-01-09             공원에 놀이기구가 너무 적다             1\n",
       "84  2019-03-09              공원을 더 늘렸으면 좋겠다             2\n",
       "85  2019-04-02           역앞에 주차장이 적다, 불편하다             1\n",
       "\n",
       "[86 rows x 3 columns]"
      ]
     },
     "execution_count": 74,
     "metadata": {},
     "output_type": "execute_result"
    }
   ],
   "source": [
    "survey"
   ]
  },
  {
   "cell_type": "code",
   "execution_count": 85,
   "id": "3379818d",
   "metadata": {},
   "outputs": [],
   "source": [
    "survey['comment'] = survey['comment'].str.replace('[A-Za-z]',\"\", regex=True)  #regex "
   ]
  },
  {
   "cell_type": "code",
   "execution_count": 87,
   "id": "78685301",
   "metadata": {},
   "outputs": [
    {
     "data": {
      "text/plain": [
       "0              역앞에 젊은이들이 모여있다(역)\n",
       "1          운동할 수 있는 장소가 있는 것이 좋다\n",
       "2                      육아 지원이 좋다\n",
       "3     어린이집에 바로 입원할 수 있다(대기아동 없음)\n",
       "4                    역앞 상가가 쓸쓸하다\n",
       "                 ...            \n",
       "81        초등학교 운동장이 잔디밭이라서 아주 좋다\n",
       "82    홈페이지에서도 설문지를 투고할 수 있게 해 달라\n",
       "83               공원에 놀이기구가 너무 적다\n",
       "84                공원을 더 늘렸으면 좋겠다\n",
       "85             역앞에 주차장이 적다, 불편하다\n",
       "Name: comment, Length: 86, dtype: object"
      ]
     },
     "execution_count": 87,
     "metadata": {},
     "output_type": "execute_result"
    }
   ],
   "source": [
    "survey['comment']"
   ]
  },
  {
   "cell_type": "code",
   "execution_count": 81,
   "id": "62a2a2f5",
   "metadata": {},
   "outputs": [],
   "source": [
    "survey['len'] = survey['comment'].str.len() # 전체 리뷰에 대한 길이를 만들 수 있다."
   ]
  },
  {
   "cell_type": "code",
   "execution_count": 82,
   "id": "c4d19b98",
   "metadata": {},
   "outputs": [
    {
     "data": {
      "text/html": [
       "<div>\n",
       "<style scoped>\n",
       "    .dataframe tbody tr th:only-of-type {\n",
       "        vertical-align: middle;\n",
       "    }\n",
       "\n",
       "    .dataframe tbody tr th {\n",
       "        vertical-align: top;\n",
       "    }\n",
       "\n",
       "    .dataframe thead th {\n",
       "        text-align: right;\n",
       "    }\n",
       "</style>\n",
       "<table border=\"1\" class=\"dataframe\">\n",
       "  <thead>\n",
       "    <tr style=\"text-align: right;\">\n",
       "      <th></th>\n",
       "      <th>datetime</th>\n",
       "      <th>comment</th>\n",
       "      <th>satisfaction</th>\n",
       "      <th>len</th>\n",
       "    </tr>\n",
       "  </thead>\n",
       "  <tbody>\n",
       "    <tr>\n",
       "      <th>0</th>\n",
       "      <td>2019-03-11</td>\n",
       "      <td>역앞에 젊은이들이 모여있다(AA역)</td>\n",
       "      <td>1</td>\n",
       "      <td>19.0</td>\n",
       "    </tr>\n",
       "    <tr>\n",
       "      <th>1</th>\n",
       "      <td>2019-02-25</td>\n",
       "      <td>운동할 수 있는 장소가 있는 것이 좋다</td>\n",
       "      <td>5</td>\n",
       "      <td>21.0</td>\n",
       "    </tr>\n",
       "    <tr>\n",
       "      <th>2</th>\n",
       "      <td>2019-02-18</td>\n",
       "      <td>육아 지원이 좋다</td>\n",
       "      <td>5</td>\n",
       "      <td>9.0</td>\n",
       "    </tr>\n",
       "    <tr>\n",
       "      <th>3</th>\n",
       "      <td>2019-04-09</td>\n",
       "      <td>어린이집에 바로 입원할 수 있다(대기아동 없음)</td>\n",
       "      <td>4</td>\n",
       "      <td>26.0</td>\n",
       "    </tr>\n",
       "    <tr>\n",
       "      <th>4</th>\n",
       "      <td>2019-01-06</td>\n",
       "      <td>역앞 상가가 쓸쓸하다</td>\n",
       "      <td>2</td>\n",
       "      <td>11.0</td>\n",
       "    </tr>\n",
       "    <tr>\n",
       "      <th>...</th>\n",
       "      <td>...</td>\n",
       "      <td>...</td>\n",
       "      <td>...</td>\n",
       "      <td>...</td>\n",
       "    </tr>\n",
       "    <tr>\n",
       "      <th>81</th>\n",
       "      <td>2019-01-21</td>\n",
       "      <td>초등학교 운동장이 잔디밭이라서 아주 좋다</td>\n",
       "      <td>5</td>\n",
       "      <td>22.0</td>\n",
       "    </tr>\n",
       "    <tr>\n",
       "      <th>82</th>\n",
       "      <td>2019-04-30</td>\n",
       "      <td>홈페이지에서도 설문지를 투고할 수 있게 해 달라</td>\n",
       "      <td>2</td>\n",
       "      <td>26.0</td>\n",
       "    </tr>\n",
       "    <tr>\n",
       "      <th>83</th>\n",
       "      <td>2019-01-09</td>\n",
       "      <td>공원에 놀이기구가 너무 적다</td>\n",
       "      <td>1</td>\n",
       "      <td>15.0</td>\n",
       "    </tr>\n",
       "    <tr>\n",
       "      <th>84</th>\n",
       "      <td>2019-03-09</td>\n",
       "      <td>공원을 더 늘렸으면 좋겠다</td>\n",
       "      <td>2</td>\n",
       "      <td>14.0</td>\n",
       "    </tr>\n",
       "    <tr>\n",
       "      <th>85</th>\n",
       "      <td>2019-04-02</td>\n",
       "      <td>역앞에 주차장이 적다, 불편하다</td>\n",
       "      <td>1</td>\n",
       "      <td>17.0</td>\n",
       "    </tr>\n",
       "  </tbody>\n",
       "</table>\n",
       "<p>86 rows × 4 columns</p>\n",
       "</div>"
      ],
      "text/plain": [
       "      datetime                     comment  satisfaction   len\n",
       "0   2019-03-11         역앞에 젊은이들이 모여있다(AA역)             1  19.0\n",
       "1   2019-02-25       운동할 수 있는 장소가 있는 것이 좋다             5  21.0\n",
       "2   2019-02-18                   육아 지원이 좋다             5   9.0\n",
       "3   2019-04-09  어린이집에 바로 입원할 수 있다(대기아동 없음)             4  26.0\n",
       "4   2019-01-06                 역앞 상가가 쓸쓸하다             2  11.0\n",
       "..         ...                         ...           ...   ...\n",
       "81  2019-01-21      초등학교 운동장이 잔디밭이라서 아주 좋다             5  22.0\n",
       "82  2019-04-30  홈페이지에서도 설문지를 투고할 수 있게 해 달라             2  26.0\n",
       "83  2019-01-09             공원에 놀이기구가 너무 적다             1  15.0\n",
       "84  2019-03-09              공원을 더 늘렸으면 좋겠다             2  14.0\n",
       "85  2019-04-02           역앞에 주차장이 적다, 불편하다             1  17.0\n",
       "\n",
       "[86 rows x 4 columns]"
      ]
     },
     "execution_count": 82,
     "metadata": {},
     "output_type": "execute_result"
    }
   ],
   "source": [
    "survey"
   ]
  },
  {
   "cell_type": "code",
   "execution_count": 83,
   "id": "451b6a0e",
   "metadata": {},
   "outputs": [],
   "source": [
    "import matplotlib.pyplot as plt"
   ]
  },
  {
   "cell_type": "code",
   "execution_count": 84,
   "id": "5df26f3f",
   "metadata": {},
   "outputs": [
    {
     "data": {
      "text/plain": [
       "(array([19., 18., 21., 11.,  7.,  3.,  3.,  1.,  0.,  1.]),\n",
       " array([ 6. , 11.6, 17.2, 22.8, 28.4, 34. , 39.6, 45.2, 50.8, 56.4, 62. ]),\n",
       " <BarContainer object of 10 artists>)"
      ]
     },
     "execution_count": 84,
     "metadata": {},
     "output_type": "execute_result"
    },
    {
     "data": {
      "image/png": "[encoded data removed]",
      "text/plain": [
       "<Figure size 640x480 with 1 Axes>"
      ]
     },
     "metadata": {},
     "output_type": "display_data"
    }
   ],
   "source": [
    "plt.hist(survey['len'])"
   ]
  },
  {
   "cell_type": "markdown",
   "id": "0c1a6c59",
   "metadata": {},
   "source": [
    "## 필수과제 3\n",
    "- 서베이 데이터 가지고 간단한 시각화 및 전처리 \n",
    "- 정규표현식을 가지고 한글만 남기고 모두 다 삭제해 주시고\n",
    "- 만족도에 따른 분석도, 시계열에 따른 분석도 가능하다.\n",
    "- 두 가지 컬럼을 가지고 텍스트를 분석해 보기\n",
    "- 시각화 + 분석 내용을 요약"
   ]
  },
  {
   "cell_type": "code",
   "execution_count": null,
   "id": "0f4c281c",
   "metadata": {},
   "outputs": [],
   "source": []
  }
 ],
 "metadata": {
  "kernelspec": {
   "display_name": "Python 3 (ipykernel)",
   "language": "python",
   "name": "python3"
  },
  "language_info": {
   "codemirror_mode": {
    "name": "ipython",
    "version": 3
   },
   "file_extension": ".py",
   "mimetype": "text/x-python",
   "name": "python",
   "nbconvert_exporter": "python",
   "pygments_lexer": "ipython3",
   "version": "3.8.16"
  }
 },
 "nbformat": 4,
 "nbformat_minor": 5
}
