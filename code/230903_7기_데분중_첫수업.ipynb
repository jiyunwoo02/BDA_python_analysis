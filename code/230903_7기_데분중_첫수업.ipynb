{
 "cells": [
  {
   "cell_type": "markdown",
   "id": "65e2bc91",
   "metadata": {},
   "source": [
    "### Train, test 를 이용하여 간단한 모델링 실습하기!"
   ]
  },
  {
   "cell_type": "code",
   "execution_count": 6,
   "id": "e486ccbb",
   "metadata": {},
   "outputs": [],
   "source": [
    "from sklearn.datasets import load_iris\n",
    "from sklearn.tree import DecisionTreeClassifier\n",
    "from sklearn.model_selection import train_test_split\n",
    "import pandas as pd\n",
    "import numpy as np"
   ]
  },
  {
   "cell_type": "code",
   "execution_count": 5,
   "id": "5752a008",
   "metadata": {},
   "outputs": [
    {
     "name": "stdout",
     "output_type": "stream",
     "text": [
      "1.3.0\n"
     ]
    }
   ],
   "source": [
    "import sklearn\n",
    "print(sklearn.__version__)"
   ]
  },
  {
   "cell_type": "code",
   "execution_count": 13,
   "id": "8fb0ec3b",
   "metadata": {},
   "outputs": [],
   "source": [
    "iris = load_iris()\n",
    "iris_data = iris.data\n",
    "iris_label = iris.target #target\n",
    "iris_df = pd.DataFrame(data=iris_data, columns = iris.feature_names)\n",
    "iris_df['y'] = iris_label\n"
   ]
  },
  {
   "cell_type": "code",
   "execution_count": 14,
   "id": "226a056d",
   "metadata": {},
   "outputs": [
    {
     "data": {
      "text/html": [
       "<div>\n",
       "<style scoped>\n",
       "    .dataframe tbody tr th:only-of-type {\n",
       "        vertical-align: middle;\n",
       "    }\n",
       "\n",
       "    .dataframe tbody tr th {\n",
       "        vertical-align: top;\n",
       "    }\n",
       "\n",
       "    .dataframe thead th {\n",
       "        text-align: right;\n",
       "    }\n",
       "</style>\n",
       "<table border=\"1\" class=\"dataframe\">\n",
       "  <thead>\n",
       "    <tr style=\"text-align: right;\">\n",
       "      <th></th>\n",
       "      <th>sepal length (cm)</th>\n",
       "      <th>sepal width (cm)</th>\n",
       "      <th>petal length (cm)</th>\n",
       "      <th>petal width (cm)</th>\n",
       "      <th>y</th>\n",
       "    </tr>\n",
       "  </thead>\n",
       "  <tbody>\n",
       "    <tr>\n",
       "      <th>0</th>\n",
       "      <td>5.1</td>\n",
       "      <td>3.5</td>\n",
       "      <td>1.4</td>\n",
       "      <td>0.2</td>\n",
       "      <td>0</td>\n",
       "    </tr>\n",
       "    <tr>\n",
       "      <th>1</th>\n",
       "      <td>4.9</td>\n",
       "      <td>3.0</td>\n",
       "      <td>1.4</td>\n",
       "      <td>0.2</td>\n",
       "      <td>0</td>\n",
       "    </tr>\n",
       "    <tr>\n",
       "      <th>2</th>\n",
       "      <td>4.7</td>\n",
       "      <td>3.2</td>\n",
       "      <td>1.3</td>\n",
       "      <td>0.2</td>\n",
       "      <td>0</td>\n",
       "    </tr>\n",
       "    <tr>\n",
       "      <th>3</th>\n",
       "      <td>4.6</td>\n",
       "      <td>3.1</td>\n",
       "      <td>1.5</td>\n",
       "      <td>0.2</td>\n",
       "      <td>0</td>\n",
       "    </tr>\n",
       "    <tr>\n",
       "      <th>4</th>\n",
       "      <td>5.0</td>\n",
       "      <td>3.6</td>\n",
       "      <td>1.4</td>\n",
       "      <td>0.2</td>\n",
       "      <td>0</td>\n",
       "    </tr>\n",
       "    <tr>\n",
       "      <th>...</th>\n",
       "      <td>...</td>\n",
       "      <td>...</td>\n",
       "      <td>...</td>\n",
       "      <td>...</td>\n",
       "      <td>...</td>\n",
       "    </tr>\n",
       "    <tr>\n",
       "      <th>145</th>\n",
       "      <td>6.7</td>\n",
       "      <td>3.0</td>\n",
       "      <td>5.2</td>\n",
       "      <td>2.3</td>\n",
       "      <td>2</td>\n",
       "    </tr>\n",
       "    <tr>\n",
       "      <th>146</th>\n",
       "      <td>6.3</td>\n",
       "      <td>2.5</td>\n",
       "      <td>5.0</td>\n",
       "      <td>1.9</td>\n",
       "      <td>2</td>\n",
       "    </tr>\n",
       "    <tr>\n",
       "      <th>147</th>\n",
       "      <td>6.5</td>\n",
       "      <td>3.0</td>\n",
       "      <td>5.2</td>\n",
       "      <td>2.0</td>\n",
       "      <td>2</td>\n",
       "    </tr>\n",
       "    <tr>\n",
       "      <th>148</th>\n",
       "      <td>6.2</td>\n",
       "      <td>3.4</td>\n",
       "      <td>5.4</td>\n",
       "      <td>2.3</td>\n",
       "      <td>2</td>\n",
       "    </tr>\n",
       "    <tr>\n",
       "      <th>149</th>\n",
       "      <td>5.9</td>\n",
       "      <td>3.0</td>\n",
       "      <td>5.1</td>\n",
       "      <td>1.8</td>\n",
       "      <td>2</td>\n",
       "    </tr>\n",
       "  </tbody>\n",
       "</table>\n",
       "<p>150 rows × 5 columns</p>\n",
       "</div>"
      ],
      "text/plain": [
       "     sepal length (cm)  sepal width (cm)  petal length (cm)  petal width (cm)   \n",
       "0                  5.1               3.5                1.4               0.2  \\\n",
       "1                  4.9               3.0                1.4               0.2   \n",
       "2                  4.7               3.2                1.3               0.2   \n",
       "3                  4.6               3.1                1.5               0.2   \n",
       "4                  5.0               3.6                1.4               0.2   \n",
       "..                 ...               ...                ...               ...   \n",
       "145                6.7               3.0                5.2               2.3   \n",
       "146                6.3               2.5                5.0               1.9   \n",
       "147                6.5               3.0                5.2               2.0   \n",
       "148                6.2               3.4                5.4               2.3   \n",
       "149                5.9               3.0                5.1               1.8   \n",
       "\n",
       "     y  \n",
       "0    0  \n",
       "1    0  \n",
       "2    0  \n",
       "3    0  \n",
       "4    0  \n",
       "..  ..  \n",
       "145  2  \n",
       "146  2  \n",
       "147  2  \n",
       "148  2  \n",
       "149  2  \n",
       "\n",
       "[150 rows x 5 columns]"
      ]
     },
     "execution_count": 14,
     "metadata": {},
     "output_type": "execute_result"
    }
   ],
   "source": [
    "#붓꽃데이터 \n",
    "#잎의 길이랑 넓이 이런 데이터를 가지고 y값 분류 \n",
    "\n",
    "iris_df"
   ]
  },
  {
   "cell_type": "markdown",
   "id": "2cf629e3",
   "metadata": {},
   "source": [
    "### 과적합을 막기 위해서 \n",
    "- train, test 로 분리해서 진행하자!\n",
    "- train_test_split API가지고 진행하면 된다!"
   ]
  },
  {
   "cell_type": "code",
   "execution_count": 15,
   "id": "7d2d9c89",
   "metadata": {},
   "outputs": [],
   "source": [
    "#데이터 분리\n",
    "X_train, X_test, y_train, y_test = train_test_split(iris_data, iris_label, test_size=0.3, random_state=111)"
   ]
  },
  {
   "cell_type": "markdown",
   "id": "ad65dcf8",
   "metadata": {},
   "source": [
    "- test_size, random_state 뭘 의미하는 것인가?\n",
    "- test_size = train, test 나눠주는 비율 0.3 7:3 (train 7, test :3 ) 전체는 1\n",
    "- random_state = 셔플 카드게임 포커 ( 장 수 한정 되어 있다. ) 이것을 섞지 않으면 처음 뜯자마자 섞지 않으면 -> 동일한 패가 순서대로 ㅏㄴ온다.\n",
    "- 섞었다. -> 동일한 방법으로 1번 섞은 것, 2번 섞은 것 패를 오픈했을 때 다르게 보이겠다.전체 카드 수는 달라지지 않는다.\n",
    "- 섞는 방법에 따라서 오픈되는 카드의 패는 달라지겠지만\n",
    "- random_state= 데이터를 랜덤하게 추출하는 횟수 111 \n",
    "- 수치를 고정으로 하는 이유가 모델링을 하게 되면 여러 개 모델을 비교할텐데 데이터가 다르면 조금씩 성능에 바이어스가 낄 수 있으니 \n",
    "- 데이터를 섞는 것을 난수고정처럼 \n"
   ]
  },
  {
   "cell_type": "code",
   "execution_count": 19,
   "id": "2dc475bc",
   "metadata": {},
   "outputs": [
    {
     "data": {
      "text/plain": [
       "array([0, 0, 2, 2, 1, 0, 0, 2, 2, 1, 2, 0, 2, 2, 2, 0, 2, 1, 0, 2, 1, 2,\n",
       "       1, 1, 2, 0, 0, 1, 0, 2, 0, 1, 0, 0, 1, 2, 2, 1, 0, 1, 1, 1, 1, 1,\n",
       "       2])"
      ]
     },
     "execution_count": 19,
     "metadata": {},
     "output_type": "execute_result"
    }
   ],
   "source": [
    "y_test"
   ]
  },
  {
   "cell_type": "code",
   "execution_count": 23,
   "id": "c9c3903c",
   "metadata": {},
   "outputs": [
    {
     "data": {
      "text/html": [
       "<style>#sk-container-id-2 {color: black;}#sk-container-id-2 pre{padding: 0;}#sk-container-id-2 div.sk-toggleable {background-color: white;}#sk-container-id-2 label.sk-toggleable__label {cursor: pointer;display: block;width: 100%;margin-bottom: 0;padding: 0.3em;box-sizing: border-box;text-align: center;}#sk-container-id-2 label.sk-toggleable__label-arrow:before {content: \"▸\";float: left;margin-right: 0.25em;color: #696969;}#sk-container-id-2 label.sk-toggleable__label-arrow:hover:before {color: black;}#sk-container-id-2 div.sk-estimator:hover label.sk-toggleable__label-arrow:before {color: black;}#sk-container-id-2 div.sk-toggleable__content {max-height: 0;max-width: 0;overflow: hidden;text-align: left;background-color: #f0f8ff;}#sk-container-id-2 div.sk-toggleable__content pre {margin: 0.2em;color: black;border-radius: 0.25em;background-color: #f0f8ff;}#sk-container-id-2 input.sk-toggleable__control:checked~div.sk-toggleable__content {max-height: 200px;max-width: 100%;overflow: auto;}#sk-container-id-2 input.sk-toggleable__control:checked~label.sk-toggleable__label-arrow:before {content: \"▾\";}#sk-container-id-2 div.sk-estimator input.sk-toggleable__control:checked~label.sk-toggleable__label {background-color: #d4ebff;}#sk-container-id-2 div.sk-label input.sk-toggleable__control:checked~label.sk-toggleable__label {background-color: #d4ebff;}#sk-container-id-2 input.sk-hidden--visually {border: 0;clip: rect(1px 1px 1px 1px);clip: rect(1px, 1px, 1px, 1px);height: 1px;margin: -1px;overflow: hidden;padding: 0;position: absolute;width: 1px;}#sk-container-id-2 div.sk-estimator {font-family: monospace;background-color: #f0f8ff;border: 1px dotted black;border-radius: 0.25em;box-sizing: border-box;margin-bottom: 0.5em;}#sk-container-id-2 div.sk-estimator:hover {background-color: #d4ebff;}#sk-container-id-2 div.sk-parallel-item::after {content: \"\";width: 100%;border-bottom: 1px solid gray;flex-grow: 1;}#sk-container-id-2 div.sk-label:hover label.sk-toggleable__label {background-color: #d4ebff;}#sk-container-id-2 div.sk-serial::before {content: \"\";position: absolute;border-left: 1px solid gray;box-sizing: border-box;top: 0;bottom: 0;left: 50%;z-index: 0;}#sk-container-id-2 div.sk-serial {display: flex;flex-direction: column;align-items: center;background-color: white;padding-right: 0.2em;padding-left: 0.2em;position: relative;}#sk-container-id-2 div.sk-item {position: relative;z-index: 1;}#sk-container-id-2 div.sk-parallel {display: flex;align-items: stretch;justify-content: center;background-color: white;position: relative;}#sk-container-id-2 div.sk-item::before, #sk-container-id-2 div.sk-parallel-item::before {content: \"\";position: absolute;border-left: 1px solid gray;box-sizing: border-box;top: 0;bottom: 0;left: 50%;z-index: -1;}#sk-container-id-2 div.sk-parallel-item {display: flex;flex-direction: column;z-index: 1;position: relative;background-color: white;}#sk-container-id-2 div.sk-parallel-item:first-child::after {align-self: flex-end;width: 50%;}#sk-container-id-2 div.sk-parallel-item:last-child::after {align-self: flex-start;width: 50%;}#sk-container-id-2 div.sk-parallel-item:only-child::after {width: 0;}#sk-container-id-2 div.sk-dashed-wrapped {border: 1px dashed gray;margin: 0 0.4em 0.5em 0.4em;box-sizing: border-box;padding-bottom: 0.4em;background-color: white;}#sk-container-id-2 div.sk-label label {font-family: monospace;font-weight: bold;display: inline-block;line-height: 1.2em;}#sk-container-id-2 div.sk-label-container {text-align: center;}#sk-container-id-2 div.sk-container {/* jupyter's `normalize.less` sets `[hidden] { display: none; }` but bootstrap.min.css set `[hidden] { display: none !important; }` so we also need the `!important` here to be able to override the default hidden behavior on the sphinx rendered scikit-learn.org. See: https://github.com/scikit-learn/scikit-learn/issues/21755 */display: inline-block !important;position: relative;}#sk-container-id-2 div.sk-text-repr-fallback {display: none;}</style><div id=\"sk-container-id-2\" class=\"sk-top-container\"><div class=\"sk-text-repr-fallback\"><pre>DecisionTreeClassifier(random_state=111)</pre><b>In a Jupyter environment, please rerun this cell to show the HTML representation or trust the notebook. <br />On GitHub, the HTML representation is unable to render, please try loading this page with nbviewer.org.</b></div><div class=\"sk-container\" hidden><div class=\"sk-item\"><div class=\"sk-estimator sk-toggleable\"><input class=\"sk-toggleable__control sk-hidden--visually\" id=\"sk-estimator-id-2\" type=\"checkbox\" checked><label for=\"sk-estimator-id-2\" class=\"sk-toggleable__label sk-toggleable__label-arrow\">DecisionTreeClassifier</label><div class=\"sk-toggleable__content\"><pre>DecisionTreeClassifier(random_state=111)</pre></div></div></div></div></div>"
      ],
      "text/plain": [
       "DecisionTreeClassifier(random_state=111)"
      ]
     },
     "execution_count": 23,
     "metadata": {},
     "output_type": "execute_result"
    }
   ],
   "source": [
    "df_clf = DecisionTreeClassifier(random_state=111)\n",
    "df_clf.fit(X_train, y_train) # 트레인 데이터를 넣어서 모델에 학습시킨다!\n",
    "# 모델이 train 데이터를 가지고 학습"
   ]
  },
  {
   "cell_type": "code",
   "execution_count": 25,
   "id": "585ca945",
   "metadata": {},
   "outputs": [],
   "source": [
    "#예측값을 불러오자!\n",
    "train_pred=df_clf.predict(X_train)"
   ]
  },
  {
   "cell_type": "code",
   "execution_count": 26,
   "id": "32b518e4",
   "metadata": {},
   "outputs": [
    {
     "data": {
      "text/plain": [
       "array([1, 1, 0, 0, 1, 1, 1, 1, 0, 1, 0, 0, 2, 0, 0, 2, 1, 1, 2, 0, 1, 2,\n",
       "       2, 0, 2, 0, 1, 2, 1, 2, 2, 1, 1, 2, 1, 2, 0, 2, 2, 0, 0, 1, 1, 2,\n",
       "       2, 0, 2, 2, 0, 1, 1, 1, 1, 2, 2, 0, 1, 0, 1, 2, 2, 2, 2, 0, 0, 2,\n",
       "       1, 0, 0, 2, 2, 1, 0, 1, 2, 0, 0, 2, 0, 1, 1, 2, 2, 1, 0, 1, 0, 1,\n",
       "       2, 0, 1, 0, 0, 0, 2, 0, 0, 0, 0, 2, 1, 0, 1, 2, 1])"
      ]
     },
     "execution_count": 26,
     "metadata": {},
     "output_type": "execute_result"
    }
   ],
   "source": [
    "train_pred #붓꽃 정답 레이블을 예측했다."
   ]
  },
  {
   "cell_type": "code",
   "execution_count": 28,
   "id": "6040fe89",
   "metadata": {},
   "outputs": [
    {
     "name": "stdout",
     "output_type": "stream",
     "text": [
      "DT train 정확도 : 1.0000\n"
     ]
    }
   ],
   "source": [
    "# 정확도를 평가해 보자! \n",
    "# 평가지표는 다양하게 있다. 정확도, 재현율, 정밀도, f1스코어, roc 등등\n",
    "# 정확도만 진행!\n",
    "from sklearn.metrics import accuracy_score\n",
    "\n",
    "print('DT train 정확도 : {0:.4f}'.format(accuracy_score(y_train, train_pred)))"
   ]
  },
  {
   "cell_type": "markdown",
   "id": "e661c458",
   "metadata": {},
   "source": [
    "- 100% 정확도!"
   ]
  },
  {
   "cell_type": "markdown",
   "id": "6690f453",
   "metadata": {},
   "source": [
    "- test로 정말 일반화 할 수 있는 것인가? 진행해보자!"
   ]
  },
  {
   "cell_type": "code",
   "execution_count": 29,
   "id": "3ceea73a",
   "metadata": {},
   "outputs": [],
   "source": [
    "#예측값을 불러오자!\n",
    "test_pred=df_clf.predict(X_test)"
   ]
  },
  {
   "cell_type": "code",
   "execution_count": 33,
   "id": "4898be67",
   "metadata": {},
   "outputs": [
    {
     "name": "stdout",
     "output_type": "stream",
     "text": [
      "DT train 정확도 : 1.0000\n",
      "DT test 정확도 : 0.9333\n"
     ]
    }
   ],
   "source": [
    "print('DT train 정확도 : {0:.4f}'.format(accuracy_score(y_train, train_pred)))\n",
    "print('DT test 정확도 : {0:.4f}'.format(accuracy_score(y_test, test_pred)))"
   ]
  },
  {
   "cell_type": "code",
   "execution_count": 41,
   "id": "76d3a2da",
   "metadata": {},
   "outputs": [],
   "source": [
    "df_clf_pm1 = DecisionTreeClassifier(max_depth=15,random_state=111)"
   ]
  },
  {
   "cell_type": "code",
   "execution_count": 42,
   "id": "3bb60bff",
   "metadata": {},
   "outputs": [],
   "source": [
    "df_clf_pm1.fit(X_train, y_train)\n",
    "train_pred_pm=df_clf_pm1.predict(X_train)\n",
    "test_pred_pm=df_clf_pm1.predict(X_test)"
   ]
  },
  {
   "cell_type": "code",
   "execution_count": 43,
   "id": "2ebcfeb3",
   "metadata": {},
   "outputs": [
    {
     "name": "stdout",
     "output_type": "stream",
     "text": [
      "DT train 정확도 : 1.0000\n",
      "DT test 정확도 : 0.9333\n"
     ]
    }
   ],
   "source": [
    "print('DT train 정확도 : {0:.4f}'.format(accuracy_score(y_train, train_pred_pm)))\n",
    "print('DT test 정확도 : {0:.4f}'.format(accuracy_score(y_test, test_pred_pm)))"
   ]
  },
  {
   "cell_type": "markdown",
   "id": "e3c7927b",
   "metadata": {},
   "source": [
    "- 타이타닉데이터로 간단하게 살펴보기!"
   ]
  },
  {
   "cell_type": "code",
   "execution_count": 45,
   "id": "db9f9561",
   "metadata": {},
   "outputs": [],
   "source": [
    "import seaborn as sns\n",
    "tt = sns.load_dataset('titanic')"
   ]
  },
  {
   "cell_type": "code",
   "execution_count": 47,
   "id": "6ca89051",
   "metadata": {},
   "outputs": [],
   "source": [
    "tt_sp=tt[['survived','pclass','age','sibsp','parch']]"
   ]
  },
  {
   "cell_type": "code",
   "execution_count": 49,
   "id": "752f5b28",
   "metadata": {},
   "outputs": [],
   "source": [
    "tt_df_x = tt_sp[['pclass','age','sibsp','parch']]\n",
    "tt_df_y = tt_sp[['survived']]"
   ]
  },
  {
   "cell_type": "code",
   "execution_count": 51,
   "id": "b7d981f1",
   "metadata": {},
   "outputs": [
    {
     "data": {
      "text/html": [
       "<div>\n",
       "<style scoped>\n",
       "    .dataframe tbody tr th:only-of-type {\n",
       "        vertical-align: middle;\n",
       "    }\n",
       "\n",
       "    .dataframe tbody tr th {\n",
       "        vertical-align: top;\n",
       "    }\n",
       "\n",
       "    .dataframe thead th {\n",
       "        text-align: right;\n",
       "    }\n",
       "</style>\n",
       "<table border=\"1\" class=\"dataframe\">\n",
       "  <thead>\n",
       "    <tr style=\"text-align: right;\">\n",
       "      <th></th>\n",
       "      <th>pclass</th>\n",
       "      <th>age</th>\n",
       "      <th>sibsp</th>\n",
       "      <th>parch</th>\n",
       "    </tr>\n",
       "  </thead>\n",
       "  <tbody>\n",
       "    <tr>\n",
       "      <th>0</th>\n",
       "      <td>3</td>\n",
       "      <td>22.0</td>\n",
       "      <td>1</td>\n",
       "      <td>0</td>\n",
       "    </tr>\n",
       "    <tr>\n",
       "      <th>1</th>\n",
       "      <td>1</td>\n",
       "      <td>38.0</td>\n",
       "      <td>1</td>\n",
       "      <td>0</td>\n",
       "    </tr>\n",
       "    <tr>\n",
       "      <th>2</th>\n",
       "      <td>3</td>\n",
       "      <td>26.0</td>\n",
       "      <td>0</td>\n",
       "      <td>0</td>\n",
       "    </tr>\n",
       "    <tr>\n",
       "      <th>3</th>\n",
       "      <td>1</td>\n",
       "      <td>35.0</td>\n",
       "      <td>1</td>\n",
       "      <td>0</td>\n",
       "    </tr>\n",
       "    <tr>\n",
       "      <th>4</th>\n",
       "      <td>3</td>\n",
       "      <td>35.0</td>\n",
       "      <td>0</td>\n",
       "      <td>0</td>\n",
       "    </tr>\n",
       "    <tr>\n",
       "      <th>...</th>\n",
       "      <td>...</td>\n",
       "      <td>...</td>\n",
       "      <td>...</td>\n",
       "      <td>...</td>\n",
       "    </tr>\n",
       "    <tr>\n",
       "      <th>886</th>\n",
       "      <td>2</td>\n",
       "      <td>27.0</td>\n",
       "      <td>0</td>\n",
       "      <td>0</td>\n",
       "    </tr>\n",
       "    <tr>\n",
       "      <th>887</th>\n",
       "      <td>1</td>\n",
       "      <td>19.0</td>\n",
       "      <td>0</td>\n",
       "      <td>0</td>\n",
       "    </tr>\n",
       "    <tr>\n",
       "      <th>888</th>\n",
       "      <td>3</td>\n",
       "      <td>NaN</td>\n",
       "      <td>1</td>\n",
       "      <td>2</td>\n",
       "    </tr>\n",
       "    <tr>\n",
       "      <th>889</th>\n",
       "      <td>1</td>\n",
       "      <td>26.0</td>\n",
       "      <td>0</td>\n",
       "      <td>0</td>\n",
       "    </tr>\n",
       "    <tr>\n",
       "      <th>890</th>\n",
       "      <td>3</td>\n",
       "      <td>32.0</td>\n",
       "      <td>0</td>\n",
       "      <td>0</td>\n",
       "    </tr>\n",
       "  </tbody>\n",
       "</table>\n",
       "<p>891 rows × 4 columns</p>\n",
       "</div>"
      ],
      "text/plain": [
       "     pclass   age  sibsp  parch\n",
       "0         3  22.0      1      0\n",
       "1         1  38.0      1      0\n",
       "2         3  26.0      0      0\n",
       "3         1  35.0      1      0\n",
       "4         3  35.0      0      0\n",
       "..      ...   ...    ...    ...\n",
       "886       2  27.0      0      0\n",
       "887       1  19.0      0      0\n",
       "888       3   NaN      1      2\n",
       "889       1  26.0      0      0\n",
       "890       3  32.0      0      0\n",
       "\n",
       "[891 rows x 4 columns]"
      ]
     },
     "execution_count": 51,
     "metadata": {},
     "output_type": "execute_result"
    }
   ],
   "source": [
    "tt_df_x"
   ]
  },
  {
   "cell_type": "code",
   "execution_count": 52,
   "id": "bb049b3a",
   "metadata": {},
   "outputs": [],
   "source": [
    "#데이터 분리\n",
    "X_train, X_test, y_train, y_test = train_test_split(tt_df_x, tt_df_y, test_size=0.3, random_state=111)"
   ]
  },
  {
   "cell_type": "code",
   "execution_count": 55,
   "id": "38722ff1",
   "metadata": {},
   "outputs": [
    {
     "data": {
      "text/html": [
       "<div>\n",
       "<style scoped>\n",
       "    .dataframe tbody tr th:only-of-type {\n",
       "        vertical-align: middle;\n",
       "    }\n",
       "\n",
       "    .dataframe tbody tr th {\n",
       "        vertical-align: top;\n",
       "    }\n",
       "\n",
       "    .dataframe thead th {\n",
       "        text-align: right;\n",
       "    }\n",
       "</style>\n",
       "<table border=\"1\" class=\"dataframe\">\n",
       "  <thead>\n",
       "    <tr style=\"text-align: right;\">\n",
       "      <th></th>\n",
       "      <th>pclass</th>\n",
       "      <th>age</th>\n",
       "      <th>sibsp</th>\n",
       "      <th>parch</th>\n",
       "    </tr>\n",
       "  </thead>\n",
       "  <tbody>\n",
       "    <tr>\n",
       "      <th>195</th>\n",
       "      <td>1</td>\n",
       "      <td>58.0</td>\n",
       "      <td>0</td>\n",
       "      <td>0</td>\n",
       "    </tr>\n",
       "    <tr>\n",
       "      <th>150</th>\n",
       "      <td>2</td>\n",
       "      <td>51.0</td>\n",
       "      <td>0</td>\n",
       "      <td>0</td>\n",
       "    </tr>\n",
       "    <tr>\n",
       "      <th>572</th>\n",
       "      <td>1</td>\n",
       "      <td>36.0</td>\n",
       "      <td>0</td>\n",
       "      <td>0</td>\n",
       "    </tr>\n",
       "    <tr>\n",
       "      <th>134</th>\n",
       "      <td>2</td>\n",
       "      <td>25.0</td>\n",
       "      <td>0</td>\n",
       "      <td>0</td>\n",
       "    </tr>\n",
       "    <tr>\n",
       "      <th>96</th>\n",
       "      <td>1</td>\n",
       "      <td>71.0</td>\n",
       "      <td>0</td>\n",
       "      <td>0</td>\n",
       "    </tr>\n",
       "    <tr>\n",
       "      <th>...</th>\n",
       "      <td>...</td>\n",
       "      <td>...</td>\n",
       "      <td>...</td>\n",
       "      <td>...</td>\n",
       "    </tr>\n",
       "    <tr>\n",
       "      <th>275</th>\n",
       "      <td>1</td>\n",
       "      <td>63.0</td>\n",
       "      <td>1</td>\n",
       "      <td>0</td>\n",
       "    </tr>\n",
       "    <tr>\n",
       "      <th>86</th>\n",
       "      <td>3</td>\n",
       "      <td>16.0</td>\n",
       "      <td>1</td>\n",
       "      <td>3</td>\n",
       "    </tr>\n",
       "    <tr>\n",
       "      <th>724</th>\n",
       "      <td>1</td>\n",
       "      <td>27.0</td>\n",
       "      <td>1</td>\n",
       "      <td>0</td>\n",
       "    </tr>\n",
       "    <tr>\n",
       "      <th>876</th>\n",
       "      <td>3</td>\n",
       "      <td>20.0</td>\n",
       "      <td>0</td>\n",
       "      <td>0</td>\n",
       "    </tr>\n",
       "    <tr>\n",
       "      <th>852</th>\n",
       "      <td>3</td>\n",
       "      <td>9.0</td>\n",
       "      <td>1</td>\n",
       "      <td>1</td>\n",
       "    </tr>\n",
       "  </tbody>\n",
       "</table>\n",
       "<p>623 rows × 4 columns</p>\n",
       "</div>"
      ],
      "text/plain": [
       "     pclass   age  sibsp  parch\n",
       "195       1  58.0      0      0\n",
       "150       2  51.0      0      0\n",
       "572       1  36.0      0      0\n",
       "134       2  25.0      0      0\n",
       "96        1  71.0      0      0\n",
       "..      ...   ...    ...    ...\n",
       "275       1  63.0      1      0\n",
       "86        3  16.0      1      3\n",
       "724       1  27.0      1      0\n",
       "876       3  20.0      0      0\n",
       "852       3   9.0      1      1\n",
       "\n",
       "[623 rows x 4 columns]"
      ]
     },
     "execution_count": 55,
     "metadata": {},
     "output_type": "execute_result"
    }
   ],
   "source": [
    "X_train"
   ]
  },
  {
   "cell_type": "markdown",
   "id": "f6948ea8",
   "metadata": {},
   "source": [
    "- base라인 모델"
   ]
  },
  {
   "cell_type": "code",
   "execution_count": 56,
   "id": "2f515845",
   "metadata": {},
   "outputs": [
    {
     "name": "stdout",
     "output_type": "stream",
     "text": [
      "DT train 정확도 : 0.7689\n"
     ]
    }
   ],
   "source": [
    "df_clf = DecisionTreeClassifier(random_state=111)\n",
    "df_clf.fit(X_train, y_train) # 트레인 데이터를 넣어서 모델에 학습시킨다!\n",
    "# 모델이 train 데이터를 가지고 학습\n",
    "#예측값을 불러오자!\n",
    "train_pred=df_clf.predict(X_train)\n",
    "print('DT train 정확도 : {0:.4f}'.format(accuracy_score(y_train, train_pred)))"
   ]
  },
  {
   "cell_type": "code",
   "execution_count": 57,
   "id": "7cb205e8",
   "metadata": {},
   "outputs": [
    {
     "name": "stdout",
     "output_type": "stream",
     "text": [
      "DT train 정확도 : 0.7689\n",
      "DT test 정확도 : 0.7052\n"
     ]
    }
   ],
   "source": [
    "#예측값을 불러오자!\n",
    "test_pred=df_clf.predict(X_test)\n",
    "print('DT train 정확도 : {0:.4f}'.format(accuracy_score(y_train, train_pred)))\n",
    "print('DT test 정확도 : {0:.4f}'.format(accuracy_score(y_test, test_pred)))"
   ]
  },
  {
   "cell_type": "markdown",
   "id": "6de83337",
   "metadata": {},
   "source": [
    "- 적정한 모델의 정확도인가?\n",
    "- train, test가 최소한으로 적정한 값을 찾아야 한다."
   ]
  },
  {
   "cell_type": "markdown",
   "id": "b60d053a",
   "metadata": {},
   "source": [
    "- 하이퍼파라미터 튜닝 max_depth 추가시 변경되는 train, test 스코어를 비교 이해하기!"
   ]
  },
  {
   "cell_type": "code",
   "execution_count": 60,
   "id": "4cc8ef98",
   "metadata": {},
   "outputs": [
    {
     "name": "stdout",
     "output_type": "stream",
     "text": [
      "DT train 정확도 : 0.7095\n",
      "DT test 정확도 : 0.7090\n"
     ]
    }
   ],
   "source": [
    "df_clf_pm1 = DecisionTreeClassifier(max_depth=3,random_state=111)\n",
    "\n",
    "df_clf_pm1.fit(X_train, y_train)\n",
    "train_pred_pm=df_clf_pm1.predict(X_train)\n",
    "test_pred_pm=df_clf_pm1.predict(X_test)\n",
    "\n",
    "print('DT train 정확도 : {0:.4f}'.format(accuracy_score(y_train, train_pred_pm)))\n",
    "print('DT test 정확도 : {0:.4f}'.format(accuracy_score(y_test, test_pred_pm)))"
   ]
  },
  {
   "cell_type": "code",
   "execution_count": 61,
   "id": "cb5681ce",
   "metadata": {},
   "outputs": [
    {
     "name": "stdout",
     "output_type": "stream",
     "text": [
      "DT train 정확도 : 0.7464\n",
      "DT test 정확도 : 0.7052\n"
     ]
    }
   ],
   "source": [
    "df_clf_pm1 = DecisionTreeClassifier(max_depth=5,random_state=111)\n",
    "\n",
    "df_clf_pm1.fit(X_train, y_train)\n",
    "train_pred_pm=df_clf_pm1.predict(X_train)\n",
    "test_pred_pm=df_clf_pm1.predict(X_test)\n",
    "\n",
    "print('DT train 정확도 : {0:.4f}'.format(accuracy_score(y_train, train_pred_pm)))\n",
    "print('DT test 정확도 : {0:.4f}'.format(accuracy_score(y_test, test_pred_pm)))"
   ]
  },
  {
   "cell_type": "code",
   "execution_count": 62,
   "id": "5b0af9f1",
   "metadata": {},
   "outputs": [
    {
     "name": "stdout",
     "output_type": "stream",
     "text": [
      "DT train 정확도 : 0.7528\n",
      "DT test 정확도 : 0.7090\n"
     ]
    }
   ],
   "source": [
    "df_clf_pm1 = DecisionTreeClassifier(max_depth=7,random_state=111)\n",
    "\n",
    "df_clf_pm1.fit(X_train, y_train)\n",
    "train_pred_pm=df_clf_pm1.predict(X_train)\n",
    "test_pred_pm=df_clf_pm1.predict(X_test)\n",
    "\n",
    "print('DT train 정확도 : {0:.4f}'.format(accuracy_score(y_train, train_pred_pm)))\n",
    "print('DT test 정확도 : {0:.4f}'.format(accuracy_score(y_test, test_pred_pm)))"
   ]
  },
  {
   "cell_type": "code",
   "execution_count": 63,
   "id": "1aceb100",
   "metadata": {},
   "outputs": [
    {
     "name": "stdout",
     "output_type": "stream",
     "text": [
      "DT train 정확도 : 0.7689\n",
      "DT test 정확도 : 0.7052\n"
     ]
    }
   ],
   "source": [
    "df_clf_pm1 = DecisionTreeClassifier(max_depth=15,random_state=111)\n",
    "\n",
    "df_clf_pm1.fit(X_train, y_train)\n",
    "train_pred_pm=df_clf_pm1.predict(X_train)\n",
    "test_pred_pm=df_clf_pm1.predict(X_test)\n",
    "\n",
    "print('DT train 정확도 : {0:.4f}'.format(accuracy_score(y_train, train_pred_pm)))\n",
    "print('DT test 정확도 : {0:.4f}'.format(accuracy_score(y_test, test_pred_pm)))"
   ]
  },
  {
   "cell_type": "code",
   "execution_count": 64,
   "id": "f56a5298",
   "metadata": {},
   "outputs": [
    {
     "name": "stdout",
     "output_type": "stream",
     "text": [
      "DT train 정확도 : 0.7689\n",
      "DT test 정확도 : 0.7052\n"
     ]
    }
   ],
   "source": [
    "df_clf_pm1 = DecisionTreeClassifier(max_depth=30,random_state=111)\n",
    "\n",
    "df_clf_pm1.fit(X_train, y_train)\n",
    "train_pred_pm=df_clf_pm1.predict(X_train)\n",
    "test_pred_pm=df_clf_pm1.predict(X_test)\n",
    "\n",
    "print('DT train 정확도 : {0:.4f}'.format(accuracy_score(y_train, train_pred_pm)))\n",
    "print('DT test 정확도 : {0:.4f}'.format(accuracy_score(y_test, test_pred_pm)))"
   ]
  },
  {
   "cell_type": "code",
   "execution_count": 67,
   "id": "1c6fb685",
   "metadata": {},
   "outputs": [
    {
     "name": "stdout",
     "output_type": "stream",
     "text": [
      "DT train 정확도 : 0.7689\n",
      "DT test 정확도 : 0.7052\n"
     ]
    }
   ],
   "source": [
    "df_clf_pm1 = DecisionTreeClassifier(max_depth=1000,random_state=111)\n",
    "\n",
    "df_clf_pm1.fit(X_train, y_train)\n",
    "train_pred_pm=df_clf_pm1.predict(X_train)\n",
    "test_pred_pm=df_clf_pm1.predict(X_test)\n",
    "\n",
    "print('DT train 정확도 : {0:.4f}'.format(accuracy_score(y_train, train_pred_pm)))\n",
    "print('DT test 정확도 : {0:.4f}'.format(accuracy_score(y_test, test_pred_pm)))"
   ]
  },
  {
   "cell_type": "code",
   "execution_count": null,
   "id": "4532f315",
   "metadata": {},
   "outputs": [],
   "source": []
  }
 ],
 "metadata": {
  "kernelspec": {
   "display_name": "Python 3 (ipykernel)",
   "language": "python",
   "name": "python3"
  },
  "language_info": {
   "codemirror_mode": {
    "name": "ipython",
    "version": 3
   },
   "file_extension": ".py",
   "mimetype": "text/x-python",
   "name": "python",
   "nbconvert_exporter": "python",
   "pygments_lexer": "ipython3",
   "version": "3.8.16"
  }
 },
 "nbformat": 4,
 "nbformat_minor": 5
}
